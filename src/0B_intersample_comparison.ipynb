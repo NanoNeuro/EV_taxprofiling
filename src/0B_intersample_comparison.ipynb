{
 "cells": [
  {
   "cell_type": "code",
   "execution_count": null,
   "metadata": {},
   "outputs": [],
   "source": [
    "import pandas as pd\n",
    "import numpy as np\n",
    "import matplotlib.pyplot as plt\n",
    "import seaborn as sns\n",
    "import os\n",
    "from datetime import datetime\n"
   ]
  },
  {
   "cell_type": "code",
   "execution_count": null,
   "metadata": {},
   "outputs": [],
   "source": [
    "pd.options.display.float_format = '{:.3f}'.format"
   ]
  },
  {
   "cell_type": "code",
   "execution_count": null,
   "metadata": {},
   "outputs": [],
   "source": [
    "os.makedirs('../results_diversity', exist_ok=True)\n",
    "\n",
    "today = datetime.today().strftime('%Y-%m-%d')\n",
    "os.makedirs(f'../results_diversity/{today}', exist_ok=True)"
   ]
  },
  {
   "cell_type": "code",
   "execution_count": null,
   "metadata": {},
   "outputs": [],
   "source": [
    "# MAJOR PROCESSING FUNCTIONS\n",
    "def merge_tables():\n",
    "    ...\n",
    "    "
   ]
  },
  {
   "cell_type": "code",
   "execution_count": null,
   "metadata": {},
   "outputs": [],
   "source": [
    "# GENERAL VARIABLES\n",
    "POOL_list = [f'POOL{i}' for i in range(1, 13)]\n"
   ]
  },
  {
   "cell_type": "code",
   "execution_count": null,
   "metadata": {},
   "outputs": [],
   "source": [
    "list_dfs_per[0]"
   ]
  },
  {
   "cell_type": "code",
   "execution_count": null,
   "metadata": {},
   "outputs": [],
   "source": [
    "# Attributes \n",
    "cutoff_NA_ratio = 0.35"
   ]
  },
  {
   "cell_type": "code",
   "execution_count": null,
   "metadata": {},
   "outputs": [],
   "source": [
    "list_dfs_means, list_dfs_per = [], []\n",
    "\n",
    "# Create the pooled dataframe. We are going to separate mean and percentage to have some representation of two variables.\n",
    "for POOL in POOL_list:\n",
    "    df_POOL = pd.read_csv(f'../results_diversity/{today}/{POOL}.diversity_cutoff.tsv', sep='\\t', index_col='Unnamed: 0')\n",
    "    df_POOL.reset_index(inplace=True)\n",
    "\n",
    "    df_POOL = df_POOL[['index', 'name', 'mean (%)', 'mean']].rename(columns = {'mean (%)': f'mean (%) {POOL}', 'mean': f'mean {POOL}'})\n",
    "    df_POOL['taxon - genus'] = df_POOL['index'].astype(str) + ' - ' + df_POOL['name']\n",
    "    \n",
    "    df_POOL = df_POOL.set_index('taxon - genus')\n",
    "\n",
    "    list_dfs_means.append(df_POOL[f'mean {POOL}'])\n",
    "    list_dfs_per.append(df_POOL[f'mean (%) {POOL}'])\n",
    "\n",
    "\n",
    "df_mean, df_per = pd.concat(list_dfs_means, axis=1), pd.concat(list_dfs_per, axis=1)\n",
    "\n",
    "\n",
    "# NA cut to keep only species that have only a set of values as NAs\n",
    "nonNA_index = df_mean[df_mean.isna().sum(1) < int(cutoff_NA_ratio * len(POOL_list))].index\n",
    "\n",
    "# Then we order by the median of the values (using mean skewed some species much present in a few samples)\n",
    "df_mean_nonNA = df_mean.loc[nonNA_index]\n",
    "df_mean_nonNA = df_mean_nonNA.assign(m=df_mean_nonNA.median(axis=1)).sort_values('m', ascending=False).drop('m', axis=1)\n",
    "df_mean_nonNA.to_csv(f'../results_diversity/{today}/mean_nonNA.tsv', sep='\\t')\n",
    "\n",
    "\n",
    "df_per_nonNA = df_per.loc[nonNA_index]\n",
    "df_per_nonNA = df_per_nonNA.assign(m=df_per_nonNA.median(axis=1)).sort_values('m', ascending=False).drop('m', axis=1)\n",
    "df_per_nonNA.to_csv(f'../results_diversity/{today}/per_nonNA.tsv', sep='\\t')\n",
    "\n"
   ]
  },
  {
   "cell_type": "code",
   "execution_count": null,
   "metadata": {},
   "outputs": [],
   "source": [
    "list_dfs = []\n",
    "\n",
    "# Create the pooled dataframe. We are going to separate mean and percentage to have some representation of two variables.\n",
    "for POOL in POOL_list:\n",
    "    df_POOL = pd.read_csv(f'../results_diversity/{today}/{POOL}.diversity_cutoff.tsv', sep='\\t', index_col='Unnamed: 0')\n",
    "    df_POOL.reset_index(inplace=True)\n",
    "\n",
    "    df_POOL = df_POOL[['index', 'name', 'lineage']]\n",
    "    df_POOL['taxon - genus'] = df_POOL['index'].astype(str) + ' - ' + df_POOL['name']\n",
    "    \n",
    "    df_POOL = df_POOL.set_index('taxon - genus')\n",
    "\n",
    "    list_dfs.append(df_POOL[['lineage']], )\n",
    "\n",
    "\n",
    "df = pd.concat(list_dfs).drop_duplicates()\n",
    "fungi_idx = df.loc[['Fungi' in i for i in df['lineage'].values]].index\n",
    "\n",
    "\n",
    "df_mean_fungi = df_mean.loc[fungi_idx]\n",
    "cutoff_NA_ratio = 0.6\n",
    "df_mean_fungi[df_mean_fungi.isna().sum(1) < int(cutoff_NA_ratio * len(POOL_list))].assign(m=df_per_nonNA.median(axis=1)).sort_values('m', ascending=False).drop('m', axis=1)\n"
   ]
  },
  {
   "cell_type": "code",
   "execution_count": null,
   "metadata": {},
   "outputs": [],
   "source": [
    "df_mean_nonNA"
   ]
  },
  {
   "cell_type": "code",
   "execution_count": null,
   "metadata": {},
   "outputs": [],
   "source": [
    "df_per_nonNA\n"
   ]
  },
  {
   "cell_type": "code",
   "execution_count": null,
   "metadata": {},
   "outputs": [],
   "source": [
    "fig, ax = plt.subplots(1, 1, figsize=(9, 22))\n",
    "sns.heatmap(np.log10(df_mean_nonNA.iloc[1:, :]), yticklabels=True, annot=True)\n",
    "plt.title('log10 mean counts')\n",
    "plt.tight_layout()\n",
    "plt.savefig(f'../results_diversity/{today}/heatmap_mean_nonNA_annot.png', dpi=300)\n",
    "\n",
    "\n",
    "\n",
    "fig, ax = plt.subplots(1, 1, figsize=(9, 22))\n",
    "sns.heatmap(np.log10(df_mean_nonNA.iloc[1:, :]), yticklabels=True, annot=False)\n",
    "plt.title('log10 mean counts')\n",
    "plt.tight_layout()\n",
    "plt.savefig(f'../results_diversity/{today}/heatmap_mean_nonNA.png', dpi=300)\n"
   ]
  },
  {
   "cell_type": "code",
   "execution_count": null,
   "metadata": {},
   "outputs": [],
   "source": [
    "fig, ax = plt.subplots(1, 1, figsize=(9, 22))\n",
    "sns.heatmap(np.log10(df_per_nonNA.iloc[1:, :]), yticklabels=True, annot=True)\n",
    "plt.title('log10 percentage counts')\n",
    "plt.tight_layout()\n",
    "plt.savefig(f'../results_diversity/{today}/heatmap_per_nonNA_annot.png', dpi=300)\n",
    "\n",
    "\n",
    "\n",
    "fig, ax = plt.subplots(1, 1, figsize=(9, 22))\n",
    "sns.heatmap(np.log10(df_per_nonNA.iloc[1:, :]), yticklabels=True, annot=False)\n",
    "plt.title('log10 percentage counts')\n",
    "plt.tight_layout()\n",
    "plt.savefig(f'../results_diversity/{today}/heatmap_per_nonNA.png', dpi=300)"
   ]
  },
  {
   "cell_type": "code",
   "execution_count": null,
   "metadata": {},
   "outputs": [],
   "source": []
  },
  {
   "cell_type": "code",
   "execution_count": null,
   "metadata": {},
   "outputs": [],
   "source": []
  },
  {
   "cell_type": "code",
   "execution_count": null,
   "metadata": {},
   "outputs": [],
   "source": []
  },
  {
   "cell_type": "code",
   "execution_count": null,
   "metadata": {},
   "outputs": [],
   "source": []
  },
  {
   "cell_type": "code",
   "execution_count": null,
   "metadata": {},
   "outputs": [],
   "source": [
    "sns.heatmap(np.log10(df_per_nonNA.iloc[1:, :]))\n"
   ]
  },
  {
   "cell_type": "code",
   "execution_count": null,
   "metadata": {},
   "outputs": [],
   "source": [
    "sns.heatmap(np.log10(df_mean_nonNA.iloc[1:, :]))"
   ]
  }
 ],
 "metadata": {
  "kernelspec": {
   "display_name": "EVs",
   "language": "python",
   "name": "python3"
  },
  "language_info": {
   "codemirror_mode": {
    "name": "ipython",
    "version": 3
   },
   "file_extension": ".py",
   "mimetype": "text/x-python",
   "name": "python",
   "nbconvert_exporter": "python",
   "pygments_lexer": "ipython3",
   "version": "3.10.8"
  },
  "orig_nbformat": 4
 },
 "nbformat": 4,
 "nbformat_minor": 2
}
