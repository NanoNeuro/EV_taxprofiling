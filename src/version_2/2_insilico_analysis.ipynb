{
 "cells": [
  {
   "cell_type": "code",
   "execution_count": 2,
   "metadata": {},
   "outputs": [],
   "source": [
    "import pandas as pd\n",
    "import numpy as np\n",
    "import matplotlib.pyplot as plt\n",
    "import seaborn as sns\n",
    "import os\n",
    "from datetime import datetime"
   ]
  },
  {
   "cell_type": "code",
   "execution_count": 3,
   "metadata": {},
   "outputs": [],
   "source": [
    "pd.options.display.float_format = '{:.3f}'.format"
   ]
  },
  {
   "cell_type": "markdown",
   "metadata": {},
   "source": [
    "# In silico sample analysis\n",
    "\n",
    "In this notebook we are going to do an analysis on the *in silico* samples, where we are going to study several variables:\n",
    "1) The modes of the profiles: we are going to check how each profiler works in each mode, being more or less sensitive.\n",
    "2) The effects of the flag system on the improvement of the performance stats.\n",
    "3) The performance using genus or species\n",
    "\n",
    "To evaluate the performance of the profilers we are going to use several measures:\n",
    "1) sensitivity, especificity F1-score of each mode for each profiler (before and after the flagging)\n",
    "2) AUC using the different modes for each profiler "
   ]
  },
  {
   "cell_type": "code",
   "execution_count": null,
   "metadata": {},
   "outputs": [],
   "source": []
  }
 ],
 "metadata": {
  "kernelspec": {
   "display_name": "EVs",
   "language": "python",
   "name": "python3"
  },
  "language_info": {
   "codemirror_mode": {
    "name": "ipython",
    "version": 3
   },
   "file_extension": ".py",
   "mimetype": "text/x-python",
   "name": "python",
   "nbconvert_exporter": "python",
   "pygments_lexer": "ipython3",
   "version": "3.12.1"
  }
 },
 "nbformat": 4,
 "nbformat_minor": 2
}
