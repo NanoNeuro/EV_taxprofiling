{
 "cells": [
  {
   "cell_type": "code",
   "execution_count": null,
   "metadata": {},
   "outputs": [],
   "source": [
    "import pandas as pd\n",
    "import numpy as np\n",
    "import matplotlib.pyplot as plt\n",
    "import seaborn as sns\n",
    "import os\n",
    "from datetime import datetime\n",
    "from matplotlib.colors import Normalize, ListedColormap\n",
    "from scipy.stats import linregress, pearsonr\n",
    "from scipy.stats import mannwhitneyu\n",
    "from statsmodels.stats.multitest import multipletests\n",
    "import json"
   ]
  },
  {
   "cell_type": "code",
   "execution_count": null,
   "metadata": {},
   "outputs": [],
   "source": [
    "pd.options.display.float_format = '{:.3f}'.format\n",
    "pd.set_option('display.max_columns', None)\n",
    "\n",
    "plt.rcParams['figure.dpi']=170"
   ]
  },
  {
   "cell_type": "code",
   "execution_count": null,
   "metadata": {},
   "outputs": [],
   "source": [
    "from list_vars import LIST_PROFILERS, DIR_FIGURES, RESULTS_DIR, POOLS, CONTROLS"
   ]
  },
  {
   "cell_type": "markdown",
   "metadata": {},
   "source": [
    "# Biological sample analysis (part 2)\n",
    "\n",
    "In this notebook we are going to do the analysis on the *biological* samples (POOL samples + controls).\n",
    "\n",
    "One thing we want to check is how S and mode affect the robustness of our results. So, to do that we are going to compare the results using a comparative plot. The comparativ plot shows how many new variable are shown compared to the previous case. So, we can do a comparative increase on mode by fixing S, or on S by fixing the mode.\n",
    "\n",
    "This analysis can be performed with many variables, and we are going to choose the following:\n",
    "1) The number of detected species, across all samples and per individual sample (after NORM+ and cutting of species with more than 65% NaNs).\n",
    "2) The number of detected differentially abundant species across the 4 comparisons.\n",
    "\n",
    "With this in mind, we can later select one S and one mode and do the following analyses.\n",
    "\n",
    "1) The importance of including the biological control samples to ensure that false positives are not considered.\n",
    "2) The importance of normalizing the reads considering the biogical samples.\n",
    "3) Plot the significantly differentially abundant species. \n"
   ]
  },
  {
   "cell_type": "markdown",
   "metadata": {},
   "source": [
    "## Plotting sample detection and statistacally differential species across modes and S"
   ]
  },
  {
   "cell_type": "code",
   "execution_count": null,
   "metadata": {},
   "outputs": [],
   "source": [
    "# Initialize an empty list to collect data rows\n",
    "data_rows = []\n",
    "\n",
    "# Iterate through modes and S values\n",
    "for mode in [3, 5, 7]:\n",
    "    for S in [0, 1, 2, 3, 4, 5, 6, 7, 10, 15]:\n",
    "        # Read the data\n",
    "        df_normpipe_retained_species = pd.read_csv(f'{RESULTS_DIR}/merged_counts/mode{mode}_S{S}_NORM+_retained.tsv', sep='\\t')\n",
    "        df_normpipe_discarded_normplus = pd.read_csv(f'{RESULTS_DIR}/merged_counts/mode{mode}_S{S}_NORM+_discarded_norm+.tsv', sep='\\t')\n",
    "        df_normpipe_discarded_common = pd.read_csv(f'{RESULTS_DIR}/merged_counts/mode{mode}_S{S}_NORM+_discarded_common.tsv', sep='\\t')\n",
    "\n",
    "        # Get the list of samples (assuming they are column names)\n",
    "        samples = df_normpipe_retained_species.columns[3:]\n",
    "\n",
    "        data_rows.append({\n",
    "                'mode': mode,\n",
    "                'S': S,\n",
    "                'sample': 'ALL',\n",
    "                'count_retained': len(df_normpipe_retained_species),\n",
    "                'count_discarded_norm': len(df_normpipe_discarded_normplus),\n",
    "                'count_discarded_all': len(df_normpipe_discarded_common)\n",
    "            })\n",
    "        \n",
    "        for sample in samples:\n",
    "            # Count non-NaN species for each dataframe and sample\n",
    "            count_retained = df_normpipe_retained_species[sample].notna().sum()\n",
    "            count_discarded_norm = df_normpipe_discarded_normplus[sample].notna().sum()\n",
    "            count_discarded_all = df_normpipe_discarded_common[sample].notna().sum()\n",
    "\n",
    "            # Collect the data as a dictionary\n",
    "            data_rows.append({\n",
    "                'mode': mode,\n",
    "                'S': S,\n",
    "                'sample': sample,\n",
    "                'count_retained': count_retained,\n",
    "                'count_discarded_norm': count_discarded_norm,\n",
    "                'count_discarded_all': count_discarded_all\n",
    "            })\n",
    "\n",
    "# Convert the collected rows into a dataframe\n",
    "df_stats_species_count = pd.DataFrame(data_rows)\n",
    "df_stats_species_count['count_total'] = df_stats_species_count['count_retained'] + df_stats_species_count['count_discarded_norm'] + df_stats_species_count['count_discarded_all']\n",
    "df_stats_species_count"
   ]
  },
  {
   "cell_type": "code",
   "execution_count": null,
   "metadata": {},
   "outputs": [],
   "source": [
    "df_stats_species_count[df_stats_species_count['sample'] == 'ALL']"
   ]
  },
  {
   "cell_type": "code",
   "execution_count": null,
   "metadata": {},
   "outputs": [],
   "source": [
    "# Initialize an empty list to collect data rows\n",
    "data_rows = []\n",
    "\n",
    "# Iterate through modes and S values\n",
    "for mode in [3, 5, 7]:\n",
    "    for S in [0, 1, 2, 3, 4, 5, 6, 7, 10, 15]:\n",
    "        # Read the data\n",
    "        df_pval_HCvsRR = pd.read_csv(f'{RESULTS_DIR}/differential_abundance/mode{mode}_S{S}_HCvsRR.tsv', sep='\\t')\n",
    "        df_pval_HCvsSP = pd.read_csv(f'{RESULTS_DIR}/differential_abundance/mode{mode}_S{S}_HCvsSP.tsv', sep='\\t')\n",
    "        df_pval_RRvsSP = pd.read_csv(f'{RESULTS_DIR}/differential_abundance/mode{mode}_S{S}_RRvsSP.tsv', sep='\\t')\n",
    "        df_pval_sex = pd.read_csv(f'{RESULTS_DIR}/differential_abundance/mode{mode}_S{S}_sex.tsv', sep='\\t')\n",
    "\n",
    "        # Get the list of samples (assuming they are column names)\n",
    "        samples = df_normpipe_retained_species.columns[3:]\n",
    "\n",
    "        data_rows.append({\n",
    "                'mode': mode,\n",
    "                'S': S,\n",
    "                'species_HCvsRR': len(df_pval_HCvsRR[df_pval_HCvsRR['pval_MW'] < 0.05]),\n",
    "                'species_HCvsSP': len(df_pval_HCvsSP[df_pval_HCvsSP['pval_MW'] < 0.05]),\n",
    "                'species_RRvsSP': len(df_pval_RRvsSP[df_pval_RRvsSP['pval_MW'] < 0.05]),\n",
    "                'species_sex': len(df_pval_sex[df_pval_sex['pval_MW'] < 0.05])\n",
    "            })\n",
    "        \n",
    "      \n",
    "\n",
    "# Convert the collected rows into a dataframe\n",
    "df_stats_species_diffabundance = pd.DataFrame(data_rows)\n",
    "df_stats_species_diffabundance['count_total'] = df_stats_species_diffabundance['species_HCvsRR'] + df_stats_species_diffabundance['species_HCvsSP'] + \\\n",
    "                                                df_stats_species_diffabundance['species_RRvsSP'] + df_stats_species_diffabundance['species_sex']\n",
    "df_stats_species_diffabundance\n"
   ]
  },
  {
   "cell_type": "markdown",
   "metadata": {},
   "source": [
    "## Why normalization with biological controls is relevant"
   ]
  },
  {
   "cell_type": "code",
   "execution_count": null,
   "metadata": {},
   "outputs": [],
   "source": [
    "mode = 3\n",
    "S = 0"
   ]
  },
  {
   "cell_type": "code",
   "execution_count": null,
   "metadata": {},
   "outputs": [],
   "source": [
    "df_normpipe_retained_species = pd.read_csv(f'{RESULTS_DIR}/merged_counts/mode{mode}_S{S}_NORM+_retained.tsv', sep='\\t')\n",
    "df_normpipe_discarded_normplus = pd.read_csv(f'{RESULTS_DIR}/merged_counts/mode{mode}_S{S}_NORM+_discarded_norm+.tsv', sep='\\t')\n",
    "df_normpipe_discarded_common = pd.read_csv(f'{RESULTS_DIR}/merged_counts/mode{mode}_S{S}_NORM+_discarded_common.tsv', sep='\\t')"
   ]
  },
  {
   "cell_type": "code",
   "execution_count": null,
   "metadata": {},
   "outputs": [],
   "source": [
    "species = 'Candida'\n",
    "\n",
    "display(df_normpipe_retained_species[df_normpipe_retained_species['name'] == species])\n",
    "display(df_normpipe_discarded_normplus[df_normpipe_discarded_normplus['name'] == species])\n",
    "display(df_normpipe_discarded_common[df_normpipe_discarded_common['name'] == species])"
   ]
  },
  {
   "cell_type": "markdown",
   "metadata": {},
   "source": [
    "## Plotting differential species"
   ]
  },
  {
   "cell_type": "code",
   "execution_count": null,
   "metadata": {},
   "outputs": [],
   "source": [
    "def plot_ax(ax, y1, y2, color1, color2, group1, group2, species):\n",
    "    ax.scatter([1] * len(y1), y1, color=color1, label=group1, alpha=0.8)\n",
    "    ax.scatter([2] * len(y2), y2, color=color2, label=group2, alpha=0.8)\n",
    "\n",
    "    # Add the means as horizontal lines\n",
    "    ax.plot([1 - 0.2, 1 + 0.2], [np.nanmean(y1), np.nanmean(y1)], color=color1, lw=2)\n",
    "    ax.plot([2 - 0.2, 2 + 0.2], [np.nanmean(y2), np.nanmean(y2)], color=color2, lw=2)\n",
    "\n",
    "    # Add horizontal gridlines at 0.5 intervals\n",
    "    for y in np.arange(0, 5.5, 0.5):  # Adjust range to match y-axis limits\n",
    "        ax.axhline(y, color='lightgray', linestyle='--', linewidth=0.8, zorder=0)\n",
    "\n",
    "    # Customize the x-axis\n",
    "    ax.set_xticks([1, 2])\n",
    "    ax.set_xticklabels([group1, group2])\n",
    "    ax.set_xlim(0.5, 2.5)\n",
    "\n",
    "    # Set axis limits and labels\n",
    "    ax.set_ylim(0, max(5, max(max(y1) + 0.5, max(y2) + 0.5)))\n",
    "    ax.set_ylabel('log$_{10}$ counts')\n",
    "\n",
    "    # Remove the x and y axis lines\n",
    "    ax.spines['top'].set_visible(False)\n",
    "    ax.spines['right'].set_visible(False)\n",
    "    ax.spines['left'].set_visible(False)\n",
    "    ax.spines['bottom'].set_visible(False)\n",
    "\n",
    "    # Remove ticks on the y-axis\n",
    "    ax.yaxis.set_ticks_position('none')\n",
    "\n",
    "    ax.set_title(species)\n",
    "\n",
    "    # Set lighter grid aesthetics\n",
    "    ax.grid(False)"
   ]
  },
  {
   "cell_type": "code",
   "execution_count": null,
   "metadata": {},
   "outputs": [],
   "source": [
    "# Plot HC vs RR\n",
    "df_pval_HCvsRR = pd.read_csv(f'{RESULTS_DIR}/differential_abundance/mode{mode}_S{S}_HCvsRR.tsv', sep='\\t')\n",
    "df_pval_HCvsRR = df_pval_HCvsRR[df_pval_HCvsRR['pval_MW'] < 0.05].sort_values(by='log2FC')\n",
    "\n",
    "ncols = len(df_pval_HCvsRR)\n",
    "\n",
    "if ncols:\n",
    "    # Create the figure and axis\n",
    "    fig, axs = plt.subplots(1, ncols, figsize=(3 * ncols, 3))\n",
    "\n",
    "    for i in range(ncols):\n",
    "        ax = axs[i]\n",
    "        y1 = np.log10(df_pval_HCvsRR.iloc[i][['HC1', 'HC2', 'HC3', 'HC4']].astype(float).values + 1)\n",
    "        y2 = np.log10(df_pval_HCvsRR.iloc[i][['RR1', 'RR2', 'RR3', 'RR4']].astype(float).values + 1)\n",
    "        \n",
    "        species = df_pval_HCvsRR.iloc[i]['name']\n",
    "\n",
    "        plot_ax(ax, y1=y1, y2=y2, color1='skyblue', color2='crimson', group1='HC', group2='RR', species=species)\n",
    "\n",
    "    plt.tight_layout()\n",
    "    plt.show()"
   ]
  },
  {
   "cell_type": "code",
   "execution_count": null,
   "metadata": {},
   "outputs": [],
   "source": [
    "# Plot HC vs SP\n",
    "\n",
    "df_pval_HCvsSP = pd.read_csv(f'{RESULTS_DIR}/differential_abundance/mode{mode}_S{S}_HCvsSP.tsv', sep='\\t')\n",
    "df_pval_HCvsSP = df_pval_HCvsSP[df_pval_HCvsSP['pval_MW'] < 0.05].sort_values(by='log2FC')\n",
    "\n",
    "ncols = len(df_pval_HCvsSP)\n",
    "\n",
    "if ncols:\n",
    "    # Create the figure and axis\n",
    "    fig, axs = plt.subplots(1, ncols, figsize=(3 * ncols, 3))\n",
    "\n",
    "    for i in range(ncols):\n",
    "        ax = axs[i] if ncols > 1 else axs\n",
    "        y1 = np.log10(df_pval_HCvsSP.iloc[i][['HC1', 'HC2', 'HC3', 'HC4']].astype(float).values + 1)\n",
    "        y2 = np.log10(df_pval_HCvsSP.iloc[i][['SP1', 'SP2', 'SP3', 'SP4']].astype(float).values + 1)\n",
    "        \n",
    "        species = df_pval_HCvsSP.iloc[i]['name']\n",
    "\n",
    "        plot_ax(ax, y1=y1, y2=y2, color1='skyblue', color2='purple', group1='HC', group2='SP', species=species)\n",
    "\n",
    "    plt.tight_layout()\n",
    "    plt.show()                                              "
   ]
  },
  {
   "cell_type": "code",
   "execution_count": null,
   "metadata": {},
   "outputs": [],
   "source": [
    "# Plot HC vs SP\n",
    "\n",
    "df_pval_RRvsSP = pd.read_csv(f'{RESULTS_DIR}/differential_abundance/mode{mode}_S{S}_RRvsSP.tsv', sep='\\t')\n",
    "df_pval_RRvsSP = df_pval_RRvsSP[df_pval_RRvsSP['pval_MW'] < 0.05].sort_values(by='log2FC')\n",
    "\n",
    "ncols = len(df_pval_RRvsSP)\n",
    "\n",
    "# Create the figure and axis\n",
    "fig, axs = plt.subplots(2, ncols//2 + ncols%2, figsize=(2 * ncols, 2 * 3))\n",
    "\n",
    "if ncols:\n",
    "    for i in range(ncols):\n",
    "        ax = axs.ravel()[i]\n",
    "        y1 = np.log10(df_pval_RRvsSP.iloc[i][['RR1', 'RR2', 'RR3', 'RR4']].astype(float).values + 1)\n",
    "        y2 = np.log10(df_pval_RRvsSP.iloc[i][['SP1', 'SP2', 'SP3', 'SP4']].astype(float).values + 1)\n",
    "        \n",
    "        species = df_pval_RRvsSP.iloc[i]['name']\n",
    "\n",
    "        plot_ax(ax, y1=y1, y2=y2, color1='crimson', color2='purple', group1='RR', group2='SP', species=species)\n",
    "\n",
    "    for i in range(ncols, ncols+1):\n",
    "        axs.ravel()[i].axis('off')\n",
    "        \n",
    "    plt.tight_layout()\n",
    "    plt.show()"
   ]
  },
  {
   "cell_type": "code",
   "execution_count": null,
   "metadata": {},
   "outputs": [],
   "source": [
    "# Plot sex\n",
    "\n",
    "df_pval_sex = pd.read_csv(f'{RESULTS_DIR}/differential_abundance/mode{mode}_S{S}_sex.tsv', sep='\\t')\n",
    "df_pval_sex = df_pval_sex[df_pval_sex['pval_MW'] < 0.05].sort_values(by='log2FC')\n",
    "\n",
    "ncols = len(df_pval_sex)\n",
    "\n",
    "# Create the figure and axis\n",
    "fig, axs = plt.subplots(1, ncols, figsize=(3 * ncols, 3))\n",
    "\n",
    "if ncols:\n",
    "    for i in range(ncols):\n",
    "        ax = axs[i] if ncols > 1 else axs\n",
    "        y1 = np.log10(df_pval_sex.iloc[i][['HC1', 'HC2', 'RR1', 'RR2', 'SP1', 'SP2']].astype(float).values + 1)\n",
    "        y2 = np.log10(df_pval_sex.iloc[i][ ['HC3', 'HC4', 'RR3', 'RR4', 'SP3', 'SP4']].astype(float).values + 1)\n",
    "        \n",
    "        species = df_pval_sex.iloc[i]['name']\n",
    "\n",
    "        plot_ax(ax, y1=y1, y2=y2, color1='crimson', color2='purple', group1='male', group2='female', species=species)\n",
    "\n",
    "    plt.tight_layout()\n",
    "    plt.show()\n",
    "\n"
   ]
  },
  {
   "cell_type": "code",
   "execution_count": null,
   "metadata": {},
   "outputs": [],
   "source": [
    "species = 'Candida'\n",
    "\n",
    "display(df_pval_HCvsRR[df_pval_HCvsRR['name'] == species])\n",
    "display(df_pval_HCvsSP[df_pval_HCvsSP['name'] == species])\n",
    "display(df_pval_RRvsSP[df_pval_RRvsSP['name'] == species])\n",
    "display(df_pval_sex[df_pval_sex['name'] == species])"
   ]
  }
 ],
 "metadata": {
  "kernelspec": {
   "display_name": "EVs",
   "language": "python",
   "name": "python3"
  },
  "language_info": {
   "codemirror_mode": {
    "name": "ipython",
    "version": 3
   },
   "file_extension": ".py",
   "mimetype": "text/x-python",
   "name": "python",
   "nbconvert_exporter": "python",
   "pygments_lexer": "ipython3",
   "version": "3.12.0"
  }
 },
 "nbformat": 4,
 "nbformat_minor": 2
}
