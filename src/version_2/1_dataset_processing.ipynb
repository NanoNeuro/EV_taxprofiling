{
 "cells": [
  {
   "cell_type": "markdown",
   "metadata": {},
   "source": [
    "# Dataset processing\n",
    "\n",
    "In this notebook we are going to process each of the taxpasta files using the proposed methodology:\n",
    "1) Raw read counts is normalized against the rest of samples. In this scenario we can do two normalizations:\n",
    "    - Merged normalization of POOL and CONTROL samples (`NORM+`). \n",
    "    - Individual normalization of POOL samples on one hand and CONTROL samples on the other (`NORM|`).\n",
    "\n",
    "2) Select species based on the flagging system. The following criteria are used for flagging:\n",
    "    - Number of profilers where the species is detected.\n",
    "    - Minimum number of reads across profilers.\n",
    "    - Mean number of reads across profilers.\n",
    "    - CV across profilers.\n",
    "\n",
    "    Based on this criteria, we are going to apply a cutoff on the number of flags.\n",
    "\n",
    "The files will be saved as `SAMPLE_PASS{}_MODE{}_NORM{}.summary`\n"
   ]
  },
  {
   "cell_type": "code",
   "execution_count": 3,
   "metadata": {},
   "outputs": [],
   "source": [
    "import pandas as pd\n",
    "import numpy as np\n",
    "import matplotlib.pyplot as plt\n",
    "import seaborn as sns\n",
    "import os\n",
    "from datetime import datetime"
   ]
  },
  {
   "cell_type": "code",
   "execution_count": 4,
   "metadata": {},
   "outputs": [],
   "source": [
    "pd.options.display.float_format = '{:.3f}'.format"
   ]
  },
  {
   "cell_type": "markdown",
   "metadata": {},
   "source": [
    "## Variable setting"
   ]
  },
  {
   "cell_type": "code",
   "execution_count": 7,
   "metadata": {},
   "outputs": [],
   "source": [
    "DIR_SUMMARY_OUTPUT = '../../results/summary/'\n",
    "DIR_PROFILING = '../../results/profiling'\n",
    "POOLS_FILE = \"../../data/EM_EVPools/samples_profiling.txt\""
   ]
  },
  {
   "cell_type": "code",
   "execution_count": 8,
   "metadata": {},
   "outputs": [],
   "source": [
    "today = datetime.today().strftime('%Y-%m-%d')\n",
    "os.makedirs(f'{DIR_SUMMARY_OUTPUT}/{today}', exist_ok=True)"
   ]
  },
  {
   "cell_type": "code",
   "execution_count": null,
   "metadata": {},
   "outputs": [],
   "source": [
    "sample = 'ARTIFICIAL'\n",
    "passn = 2\n",
    "mode = 3\n"
   ]
  }
 ],
 "metadata": {
  "kernelspec": {
   "display_name": "EVs",
   "language": "python",
   "name": "python3"
  },
  "language_info": {
   "codemirror_mode": {
    "name": "ipython",
    "version": 3
   },
   "file_extension": ".py",
   "mimetype": "text/x-python",
   "name": "python",
   "nbconvert_exporter": "python",
   "pygments_lexer": "ipython3",
   "version": "3.12.1"
  }
 },
 "nbformat": 4,
 "nbformat_minor": 2
}
